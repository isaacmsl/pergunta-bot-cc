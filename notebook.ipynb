{
 "cells": [
  {
   "cell_type": "code",
   "execution_count": 1,
   "metadata": {},
   "outputs": [],
   "source": [
    "#pip install pymupdf\n",
    "#pip install langchain-community"
   ]
  },
  {
   "cell_type": "code",
   "execution_count": 2,
   "metadata": {},
   "outputs": [
    {
     "name": "stdout",
     "output_type": "stream",
     "text": [
      "678\n"
     ]
    }
   ],
   "source": [
    "from langchain_community.document_loaders import PyMuPDFLoader\n",
    "\n",
    "loader = PyMuPDFLoader(\"ppc.pdf\")\n",
    "pages = loader.load()\n",
    "\n",
    "print(len(pages))"
   ]
  },
  {
   "cell_type": "code",
   "execution_count": 3,
   "metadata": {},
   "outputs": [],
   "source": [
    "import os\n",
    "import getpass\n",
    "\n",
    "os.environ['OPENAI_API_KEY'] = getpass.getpass('OpenAI API Key:')"
   ]
  },
  {
   "cell_type": "code",
   "execution_count": 4,
   "metadata": {},
   "outputs": [],
   "source": [
    "#pip install langchain-openai\n",
    "#pip install faiss-gpu"
   ]
  },
  {
   "cell_type": "code",
   "execution_count": 5,
   "metadata": {},
   "outputs": [],
   "source": [
    "from langchain_community.vectorstores import FAISS\n",
    "from langchain_openai import OpenAIEmbeddings\n",
    "\n",
    "faiss_index = FAISS.from_documents(pages, OpenAIEmbeddings())"
   ]
  },
  {
   "cell_type": "code",
   "execution_count": 6,
   "metadata": {},
   "outputs": [],
   "source": [
    "docs = faiss_index.similarity_search_with_score(\"disciplinas de matemática discreta\", k=2)"
   ]
  },
  {
   "cell_type": "code",
   "execution_count": 12,
   "metadata": {},
   "outputs": [
    {
     "data": {
      "text/plain": [
       "2"
      ]
     },
     "execution_count": 12,
     "metadata": {},
     "output_type": "execute_result"
    }
   ],
   "source": [
    "len(docs)"
   ]
  },
  {
   "cell_type": "code",
   "execution_count": 13,
   "metadata": {},
   "outputs": [
    {
     "data": {
      "text/plain": [
       "(Document(page_content=' \\nBIBLIOGRAFIA \\nBIBLIOGRAFIA BÁSICA:  \\n \\n[1] Hein, James. Discrete Structures, Logic, and Computability. Estados Unidos, Jones & Bartlett Learning, 2010. \\n[2] Meinke,K and Tucker, J.V. Universal Algebra in Handbook of Logic in Computer Science: Volume 1. Background: \\nMathematical Structures. Quiribati, Clarendon Press, 1992. \\n[3] Forster, Thomas. Logic, Induction and Sets. Reino Unido, Cambridge University Press, 2003. \\n \\nBIBLIOGRAFIA COMPLEMENTAR: \\n \\n[1] Enderton, Herbert B.. A Mathematical Introduction to Logic. Reino Unido, Elsevier Science, 2001. \\n[2] Winskel, Glynn. Discrete Mathematics II: Set Theory for Computer Science. Notas de aula. \\n[3] Tarlecki, Andrzej, and Sannella, Donald. Foundations of Algebraic Specification and Formal Software Development. \\nAlemanha, Springer Berlin Heidelberg, 2012. \\n \\n \\n \\nCURSO PARA O QUAL O COMPONENTE CURRICULAR SERÁ OFERECIDO \\nNOME DO CURSO: CIÊNCIA DA COMPUTAÇÃO - NATAL - BACHARELADO - Presencial - MT \\nCÓDIGO DA ESTRUTURA CURRICULAR: 03 \\nPERÍODO DE OFERTA NA ESTRUTURA CURRICULAR:  \\nRELAÇÃO DO COMPONENTE COM A ESTRUTURA CURRICULAR:  \\n(   ) Obrigatório      ( X ) Optativo      (   ) Complementar \\n \\n \\n \\n \\n', metadata={'source': 'ppc.pdf', 'file_path': 'ppc.pdf', 'page': 266, 'total_pages': 678, 'format': 'PDF 1.4', 'title': '', 'author': '', 'subject': '', 'keywords': '', 'creator': '', 'producer': 'iText® 5.4.1 ©2000-2012 1T3XT BVBA (AGPL-version)', 'creationDate': \"D:20230210085608-03'00'\", 'modDate': \"D:20230210085608-03'00'\", 'trapped': ''}),\n",
       " 0.2998194)"
      ]
     },
     "execution_count": 13,
     "metadata": {},
     "output_type": "execute_result"
    }
   ],
   "source": [
    "docs[1]"
   ]
  },
  {
   "cell_type": "code",
   "execution_count": 15,
   "metadata": {},
   "outputs": [
    {
     "ename": "AttributeError",
     "evalue": "'tuple' object has no attribute 'metadata'",
     "output_type": "error",
     "traceback": [
      "\u001b[0;31m---------------------------------------------------------------------------\u001b[0m",
      "\u001b[0;31mAttributeError\u001b[0m                            Traceback (most recent call last)",
      "Cell \u001b[0;32mIn[15], line 2\u001b[0m\n\u001b[1;32m      1\u001b[0m \u001b[38;5;28;01mfor\u001b[39;00m doc \u001b[38;5;129;01min\u001b[39;00m docs:\n\u001b[0;32m----> 2\u001b[0m     \u001b[38;5;28mprint\u001b[39m(\u001b[38;5;28mstr\u001b[39m(\u001b[43mdoc\u001b[49m\u001b[38;5;241;43m.\u001b[39;49m\u001b[43mmetadata\u001b[49m[\u001b[38;5;124m\"\u001b[39m\u001b[38;5;124mpage\u001b[39m\u001b[38;5;124m\"\u001b[39m]) \u001b[38;5;241m+\u001b[39m \u001b[38;5;124m\"\u001b[39m\u001b[38;5;124m:\u001b[39m\u001b[38;5;124m\"\u001b[39m, doc\u001b[38;5;241m.\u001b[39mpage_content[:\u001b[38;5;241m1000\u001b[39m])\n",
      "\u001b[0;31mAttributeError\u001b[0m: 'tuple' object has no attribute 'metadata'"
     ]
    }
   ],
   "source": [
    "for doc in docs:\n",
    "    print(str(doc.metadata[\"page\"]) + \":\", doc.page_content[:1000])"
   ]
  },
  {
   "cell_type": "markdown",
   "metadata": {},
   "source": [
    "## Estrutura/sumariza páginas"
   ]
  },
  {
   "cell_type": "code",
   "execution_count": 16,
   "metadata": {},
   "outputs": [
    {
     "name": "stderr",
     "output_type": "stream",
     "text": [
      "/home/isaac/.local/lib/python3.10/site-packages/langchain_core/_api/deprecation.py:119: LangChainDeprecationWarning: The class `ChatOpenAI` was deprecated in LangChain 0.0.10 and will be removed in 0.3.0. An updated version of the class exists in the langchain-openai package and should be used instead. To use it run `pip install -U langchain-openai` and import as `from langchain_openai import ChatOpenAI`.\n",
      "  warn_deprecated(\n"
     ]
    }
   ],
   "source": [
    "from langchain.chains import RetrievalQA\n",
    "from langchain.chat_models import ChatOpenAI\n",
    "\n",
    "llm = ChatOpenAI(temperature = 0.0, model=\"gpt-3.5-turbo\")\n",
    "\n",
    "qa_stuff = RetrievalQA.from_chain_type(\n",
    "    llm=llm, \n",
    "    chain_type=\"stuff\", \n",
    "    retriever=faiss_index.as_retriever(), \n",
    "    verbose=True\n",
    ")"
   ]
  },
  {
   "cell_type": "code",
   "execution_count": 18,
   "metadata": {},
   "outputs": [
    {
     "name": "stdout",
     "output_type": "stream",
     "text": [
      "\n",
      "\n",
      "\u001b[1m> Entering new RetrievalQA chain...\u001b[0m\n",
      "\n",
      "\u001b[1m> Finished chain.\u001b[0m\n"
     ]
    },
    {
     "data": {
      "text/plain": [
       "'Pelo contexto fornecido, o curso de Bacharelado em Ciência da Computação (BCC) tem duas opções de formação: uma entrada direta em um curso de BCC de 4 anos e outra opção mais longa, de dois ciclos, totalizando 5 anos de duração. Portanto, a resposta depende da escolha do aluno entre essas duas opções.'"
      ]
     },
     "execution_count": 18,
     "metadata": {},
     "output_type": "execute_result"
    }
   ],
   "source": [
    "response = qa_stuff.run(\"quanto tempo para se formar no curso?\")\n",
    "\n",
    "response"
   ]
  }
 ],
 "metadata": {
  "kernelspec": {
   "display_name": "Python 3",
   "language": "python",
   "name": "python3"
  },
  "language_info": {
   "codemirror_mode": {
    "name": "ipython",
    "version": 3
   },
   "file_extension": ".py",
   "mimetype": "text/x-python",
   "name": "python",
   "nbconvert_exporter": "python",
   "pygments_lexer": "ipython3",
   "version": "3.10.12"
  }
 },
 "nbformat": 4,
 "nbformat_minor": 2
}
